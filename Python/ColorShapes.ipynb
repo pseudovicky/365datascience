{
 "cells": [
  {
   "cell_type": "code",
   "execution_count": 5,
   "metadata": {},
   "outputs": [
    {
     "ename": "TypeError",
     "evalue": "turtle.Vec2D() argument after * must be an iterable, not float",
     "output_type": "error",
     "traceback": [
      "\u001b[0;31m---------------------------------------------------------------------------\u001b[0m",
      "\u001b[0;31mTypeError\u001b[0m                                 Traceback (most recent call last)",
      "Cell \u001b[0;32mIn[5], line 20\u001b[0m\n\u001b[1;32m     17\u001b[0m t\u001b[38;5;241m.\u001b[39mend_fill()\n\u001b[1;32m     19\u001b[0m t\u001b[38;5;241m.\u001b[39mpenup()\n\u001b[0;32m---> 20\u001b[0m \u001b[43mt\u001b[49m\u001b[38;5;241;43m.\u001b[39;49m\u001b[43mgoto\u001b[49m\u001b[43m(\u001b[49m\u001b[38;5;241;43m0.\u001b[39;49m\u001b[38;5;241;43m-\u001b[39;49m\u001b[38;5;241;43m50\u001b[39;49m\u001b[43m)\u001b[49m\n\u001b[1;32m     21\u001b[0m t\u001b[38;5;241m.\u001b[39mpendown()\n\u001b[1;32m     22\u001b[0m t\u001b[38;5;241m.\u001b[39mbegin_fill()\n",
      "File \u001b[0;32m<string>:8\u001b[0m, in \u001b[0;36mgoto\u001b[0;34m(x, y)\u001b[0m\n",
      "File \u001b[0;32m/Library/Frameworks/Python.framework/Versions/3.12/lib/python3.12/turtle.py:1773\u001b[0m, in \u001b[0;36mTNavigator.goto\u001b[0;34m(self, x, y)\u001b[0m\n\u001b[1;32m   1743\u001b[0m \u001b[38;5;250m\u001b[39m\u001b[38;5;124;03m\"\"\"Move turtle to an absolute position.\u001b[39;00m\n\u001b[1;32m   1744\u001b[0m \n\u001b[1;32m   1745\u001b[0m \u001b[38;5;124;03mAliases: setpos | setposition | goto:\u001b[39;00m\n\u001b[0;32m   (...)\u001b[0m\n\u001b[1;32m   1770\u001b[0m \u001b[38;5;124;03m(0.00,0.00)\u001b[39;00m\n\u001b[1;32m   1771\u001b[0m \u001b[38;5;124;03m\"\"\"\u001b[39;00m\n\u001b[1;32m   1772\u001b[0m \u001b[38;5;28;01mif\u001b[39;00m y \u001b[38;5;129;01mis\u001b[39;00m \u001b[38;5;28;01mNone\u001b[39;00m:\n\u001b[0;32m-> 1773\u001b[0m     \u001b[38;5;28mself\u001b[39m\u001b[38;5;241m.\u001b[39m_goto(\u001b[43mVec2D\u001b[49m\u001b[43m(\u001b[49m\u001b[38;5;241;43m*\u001b[39;49m\u001b[43mx\u001b[49m\u001b[43m)\u001b[49m)\n\u001b[1;32m   1774\u001b[0m \u001b[38;5;28;01melse\u001b[39;00m:\n\u001b[1;32m   1775\u001b[0m     \u001b[38;5;28mself\u001b[39m\u001b[38;5;241m.\u001b[39m_goto(Vec2D(x, y))\n",
      "\u001b[0;31mTypeError\u001b[0m: turtle.Vec2D() argument after * must be an iterable, not float"
     ]
    }
   ],
   "source": [
    "import turtle as t\n",
    "t.pensize(3) \n",
    "t.penup()\n",
    "t.goto(-200,-50)\n",
    "t.pendown()\n",
    "t.begin_fill()\n",
    "t.color('red')\n",
    "t.circle(40, steps=3)\n",
    "t.end_fill()\n",
    "\n",
    "t.penup()\n",
    "t.goto(-100,-50)\n",
    "t.pendown()\n",
    "t.begin_fill()\n",
    "t.color('blue')\n",
    "t.circle(40,steps=4)\n",
    "t.end_fill()\n",
    "\n",
    "t.penup()\n",
    "t.goto(0.-50)\n",
    "t.pendown()\n",
    "t.begin_fill()\n",
    "t.color('green')\n",
    "t.circle(40,steps=5)\n",
    "t.end_fill()\n",
    "\n",
    "t.penup()\n",
    "t.goto(100.-50)\n",
    "t.pendown()\n",
    "t.begin_fill()\n",
    "t.color('yellow')\n",
    "t.circle(40,steps=6)\n",
    "t.end_fill()\n",
    "\n",
    "t.penup()\n",
    "t.goto(2000.-50)\n",
    "t.pendown()\n",
    "t.begin_fill()\n",
    "t.color('purple')\n",
    "t.circle(40)\n",
    "t.end_fill()\n",
    "t.color('green')\n",
    "t.penup()\n",
    "t.goto(-100,50)\n",
    "t.pendown()\n",
    "t.write('cool colorful shapes', font = ('times',18,'bold'))\n",
    "t.hideturtle()"
   ]
  },
  {
   "cell_type": "code",
   "execution_count": null,
   "metadata": {},
   "outputs": [],
   "source": []
  }
 ],
 "metadata": {
  "kernelspec": {
   "display_name": "Python 3",
   "language": "python",
   "name": "python3"
  },
  "language_info": {
   "codemirror_mode": {
    "name": "ipython",
    "version": 3
   },
   "file_extension": ".py",
   "mimetype": "text/x-python",
   "name": "python",
   "nbconvert_exporter": "python",
   "pygments_lexer": "ipython3",
   "version": "3.12.5"
  }
 },
 "nbformat": 4,
 "nbformat_minor": 2
}
