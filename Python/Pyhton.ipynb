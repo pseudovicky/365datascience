{
 "cells": [
  {
   "cell_type": "code",
   "execution_count": 1,
   "metadata": {},
   "outputs": [
    {
     "name": "stdout",
     "output_type": "stream",
     "text": [
      "Data Science\n"
     ]
    }
   ],
   "source": [
    "print(\"Data Science\")"
   ]
  },
  {
   "cell_type": "code",
   "execution_count": 4,
   "metadata": {},
   "outputs": [
    {
     "name": "stdout",
     "output_type": "stream",
     "text": [
      "faculty id : 1234\n",
      "faculty name : vicky\n",
      "faculty salary : 100000\n",
      "faculty subject : Python programming\n"
     ]
    }
   ],
   "source": [
    "# class object\n",
    "\n",
    "class faculty:\n",
    "    def putData(self):\n",
    "        self.id = int(input('Enter faculty id : '))\n",
    "        self.name = input('Enter faculty name : ')\n",
    "        self.salary = int(input(\"Enter faculty salary : \"))\n",
    "        self.subject = input('Enter faculty subject : ')\n",
    "    \n",
    "    def display(self):\n",
    "        print(f'faculty id : {self.id}')\n",
    "        print(f'faculty name : {self.name}')\n",
    "        print(f'faculty salary : {self.salary}')\n",
    "        print(f'faculty subject : {self.subject}')\n",
    "\n",
    "faculty = faculty()\n",
    "faculty.putData()\n",
    "faculty.display()\n",
    "        "
   ]
  },
  {
   "cell_type": "code",
   "execution_count": null,
   "metadata": {},
   "outputs": [],
   "source": []
  }
 ],
 "metadata": {
  "kernelspec": {
   "display_name": "Python 3",
   "language": "python",
   "name": "python3"
  },
  "language_info": {
   "codemirror_mode": {
    "name": "ipython",
    "version": 3
   },
   "file_extension": ".py",
   "mimetype": "text/x-python",
   "name": "python",
   "nbconvert_exporter": "python",
   "pygments_lexer": "ipython3",
   "version": "3.12.5"
  }
 },
 "nbformat": 4,
 "nbformat_minor": 2
}
